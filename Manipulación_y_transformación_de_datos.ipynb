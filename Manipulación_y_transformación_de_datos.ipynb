{
  "cells": [
    {
      "cell_type": "markdown",
      "metadata": {
        "id": "L8T2Wnk6iTL-"
      },
      "source": [
        "# ¿Por qué NumPy?\n",
        "Es una librería enfocada al cálculo numérico y manejo de Arrays.\n",
        "\n",
        "- Es muy veloz, hasta 50 veces más rápido que usar una lista de Python o C.\n",
        "- Optimiza el almacenamiento en memoria.\n",
        "- Maneja distintos tipos de datos.\n",
        "\n",
        "Es una librería muy poderosa, se pueden crear redes neuronales desde cero.\n",
        "\n"
      ]
    },
    {
      "cell_type": "markdown",
      "metadata": {
        "id": "TLC0CCHun577"
      },
      "source": [
        "# ¿Por qué Pandas?\n",
        "Pandas está enfocada a la manipulación y análisis de datos.\n",
        "\n",
        "- Al estar construido sobre NumPy es veloz.\n",
        "- Requiere poco código para manipular los datos.\n",
        "- Soporta múltiples formatos de archivos.\n",
        "- Ordena los datos en una alienación inteligente.\n",
        "\n",
        "Se pueden manejar grandes cantidades de datos, hacer analítica y generar dashboards.\n",
        "\n",
        "Se pueden importar las librerías con la siguientes sentencias:"
      ]
    },
    {
      "cell_type": "code",
      "execution_count": null,
      "metadata": {
        "id": "FuXadkILiAUH"
      },
      "outputs": [],
      "source": [
        "import numpy as np\n",
        "import pandas as np"
      ]
    },
    {
      "cell_type": "markdown",
      "metadata": {
        "id": "ExHgo09-j8Cv"
      },
      "source": [
        "# Numpy Array\n",
        "\n",
        "El array es el principal objeto de la librería. Representa datos de manera estructurada y se puede acceder a ellos a traves del indexado, a un dato específico o un grupo de muchos datos específicos."
      ]
    },
    {
      "cell_type": "code",
      "execution_count": null,
      "metadata": {
        "colab": {
          "base_uri": "https://localhost:8080/"
        },
        "id": "8Qk2B4StlRaL",
        "outputId": "fc8849ae-2ade-42d7-a3b5-0dea77e0931b"
      },
      "outputs": [
        {
          "name": "stdout",
          "output_type": "stream",
          "text": [
            "[1, 2, 3, 4, 5]\n"
          ]
        }
      ],
      "source": [
        "lista = [1, 2 , 3, 4, 5]\n",
        "print(lista)"
      ]
    },
    {
      "cell_type": "code",
      "execution_count": null,
      "metadata": {
        "colab": {
          "base_uri": "https://localhost:8080/"
        },
        "id": "jOODaHG8l1qx",
        "outputId": "48d30685-e38f-4681-9279-0f8d3d43b490"
      },
      "outputs": [
        {
          "name": "stdout",
          "output_type": "stream",
          "text": [
            "<class 'pandas.core.arrays.integer.IntegerArray'>\n"
          ]
        }
      ],
      "source": [
        "arr = np.array(lista)\n",
        "print(type(arr))"
      ]
    },
    {
      "cell_type": "code",
      "execution_count": null,
      "metadata": {
        "colab": {
          "base_uri": "https://localhost:8080/"
        },
        "id": "xitrY177l4l6",
        "outputId": "0e18fffa-a7cf-4016-9bc5-df0a57ce339a"
      },
      "outputs": [
        {
          "name": "stdout",
          "output_type": "stream",
          "text": [
            "<PandasArray>\n",
            "[[1, 2, 3], [4, 5, 6], [7, 8, 9]]\n",
            "Length: 3, dtype: object\n"
          ]
        }
      ],
      "source": [
        "matriz = [[1, 2, 3], [4, 5, 6], [7, 8, 9]]\n",
        "matriz = np.array(matriz)\n",
        "print(matriz)"
      ]
    },
    {
      "cell_type": "markdown",
      "metadata": {
        "id": "kjzXMe58mMAm"
      },
      "source": [
        "## Indexing\n",
        "\n",
        "Acceder a los elementos del np.array() a través de su indice"
      ]
    },
    {
      "cell_type": "code",
      "execution_count": null,
      "metadata": {
        "colab": {
          "base_uri": "https://localhost:8080/"
        },
        "id": "ujbSvHEVmbOx",
        "outputId": "054e845e-c430-4d03-b497-a8a64132bf73"
      },
      "outputs": [
        {
          "data": {
            "text/plain": [
              "2"
            ]
          },
          "execution_count": 15,
          "metadata": {},
          "output_type": "execute_result"
        }
      ],
      "source": [
        "arr\n",
        "arr[1]"
      ]
    },
    {
      "cell_type": "code",
      "execution_count": null,
      "metadata": {
        "colab": {
          "base_uri": "https://localhost:8080/"
        },
        "id": "1bOiM51HmsA-",
        "outputId": "4a3cc2e4-9da0-4878-c1a5-dcd73c999a28"
      },
      "outputs": [
        {
          "name": "stdout",
          "output_type": "stream",
          "text": [
            "1\n",
            "2\n",
            "3\n",
            "4\n",
            "5\n"
          ]
        }
      ],
      "source": [
        "#es iterable\n",
        "for element in arr:\n",
        "  print(element)"
      ]
    },
    {
      "cell_type": "code",
      "execution_count": null,
      "metadata": {
        "colab": {
          "base_uri": "https://localhost:8080/"
        },
        "id": "ftmea53PoPkR",
        "outputId": "ddf8a54c-54c3-4698-efae-3cdbb827c623"
      },
      "outputs": [
        {
          "data": {
            "text/plain": [
              "3"
            ]
          },
          "execution_count": 28,
          "metadata": {},
          "output_type": "execute_result"
        }
      ],
      "source": [
        "matriz[0]\n",
        "#[\n",
        "#  [1, 2, 3], \n",
        "#  [4, 5, 6], \n",
        "#  [7, 8, 9]\n",
        "#]\n",
        "matriz[0][2]"
      ]
    },
    {
      "cell_type": "markdown",
      "metadata": {
        "id": "1S1wpXeRpoj_"
      },
      "source": [
        "# Slicing\n",
        "\n",
        "Funciona igual que el slicing de un array normal"
      ]
    },
    {
      "cell_type": "code",
      "execution_count": null,
      "metadata": {
        "colab": {
          "base_uri": "https://localhost:8080/"
        },
        "id": "O1w1T3tIpvjw",
        "outputId": "923565cf-1dac-4ef1-bfdf-2ccf3a852218"
      },
      "outputs": [
        {
          "data": {
            "text/plain": [
              "<IntegerArray>\n",
              "[1, 2, 3]\n",
              "Length: 3, dtype: Int64"
            ]
          },
          "execution_count": 29,
          "metadata": {},
          "output_type": "execute_result"
        }
      ],
      "source": [
        "arr[0:3]"
      ]
    },
    {
      "cell_type": "code",
      "execution_count": null,
      "metadata": {
        "colab": {
          "base_uri": "https://localhost:8080/"
        },
        "id": "mNQLMyRzpz6P",
        "outputId": "bbfbdb39-e215-441d-fa94-1b64c1ce520a"
      },
      "outputs": [
        {
          "data": {
            "text/plain": [
              "<IntegerArray>\n",
              "[1, 2, 3, 4, 5]\n",
              "Length: 5, dtype: Int64"
            ]
          },
          "execution_count": 30,
          "metadata": {},
          "output_type": "execute_result"
        }
      ],
      "source": [
        "arr[:5]"
      ]
    },
    {
      "cell_type": "code",
      "execution_count": null,
      "metadata": {
        "colab": {
          "base_uri": "https://localhost:8080/"
        },
        "id": "eTWrA-g6p5uc",
        "outputId": "e347b796-c904-4ccc-9945-b36bf60269e4"
      },
      "outputs": [
        {
          "data": {
            "text/plain": [
              "<IntegerArray>\n",
              "[4, 5]\n",
              "Length: 2, dtype: Int64"
            ]
          },
          "execution_count": 31,
          "metadata": {},
          "output_type": "execute_result"
        }
      ],
      "source": [
        "arr[3:]"
      ]
    },
    {
      "cell_type": "code",
      "execution_count": null,
      "metadata": {
        "colab": {
          "base_uri": "https://localhost:8080/"
        },
        "id": "735A__E6p-0Z",
        "outputId": "842a20fd-5853-4080-c81e-28e2a5481391"
      },
      "outputs": [
        {
          "data": {
            "text/plain": [
              "<IntegerArray>\n",
              "[1, 3, 5]\n",
              "Length: 3, dtype: Int64"
            ]
          },
          "execution_count": 32,
          "metadata": {},
          "output_type": "execute_result"
        }
      ],
      "source": [
        "arr[::2]"
      ]
    },
    {
      "cell_type": "code",
      "execution_count": null,
      "metadata": {
        "colab": {
          "base_uri": "https://localhost:8080/"
        },
        "id": "M_YtgYnoqFYc",
        "outputId": "d37d65f5-15a8-48f4-8f30-f34fae6d8dc7"
      },
      "outputs": [
        {
          "data": {
            "text/plain": [
              "<IntegerArray>\n",
              "[3, 4, 5]\n",
              "Length: 3, dtype: Int64"
            ]
          },
          "execution_count": 36,
          "metadata": {},
          "output_type": "execute_result"
        }
      ],
      "source": [
        "arr[-3:]"
      ]
    },
    {
      "cell_type": "code",
      "execution_count": null,
      "metadata": {
        "colab": {
          "base_uri": "https://localhost:8080/"
        },
        "id": "w45uymuTqVp0",
        "outputId": "645c694c-7ed8-4258-cf3c-85661901aded"
      },
      "outputs": [
        {
          "data": {
            "text/plain": [
              "<PandasArray>\n",
              "[[4, 5, 6], [7, 8, 9]]\n",
              "Length: 2, dtype: object"
            ]
          },
          "execution_count": 37,
          "metadata": {},
          "output_type": "execute_result"
        }
      ],
      "source": [
        "matriz[1:]"
      ]
    },
    {
      "cell_type": "code",
      "execution_count": null,
      "metadata": {
        "colab": {
          "base_uri": "https://localhost:8080/"
        },
        "id": "7pxjrWj9qdFp",
        "outputId": "af8733ab-f416-40d2-e4cf-c4877de9d6a4"
      },
      "outputs": [
        {
          "data": {
            "text/plain": [
              "<PandasArray>\n",
              "[[4, 5, 6]]\n",
              "Length: 1, dtype: object"
            ]
          },
          "execution_count": 40,
          "metadata": {},
          "output_type": "execute_result"
        }
      ],
      "source": [
        "matriz[1:2:2]"
      ]
    },
    {
      "cell_type": "code",
      "execution_count": null,
      "metadata": {
        "colab": {
          "base_uri": "https://localhost:8080/"
        },
        "id": "4AH6jqfsqxPC",
        "outputId": "c353ca65-3cfc-4e6e-bb94-78cdc9c26349"
      },
      "outputs": [
        {
          "name": "stdout",
          "output_type": "stream",
          "text": [
            "[4, 5]\n",
            "[7, 8]\n"
          ]
        }
      ],
      "source": [
        "for i in range(1,3):\n",
        "  print(matriz[i][0:2])"
      ]
    }
  ],
  "metadata": {
    "colab": {
      "provenance": []
    },
    "kernelspec": {
      "display_name": "Python 3",
      "language": "python",
      "name": "python3"
    },
    "language_info": {
      "name": "python",
      "version": "3.11.0"
    },
    "vscode": {
      "interpreter": {
        "hash": "c261aea317cc0286b3b3261fbba9abdec21eaa57589985bb7a274bf54d6cc0a7"
      }
    }
  },
  "nbformat": 4,
  "nbformat_minor": 0
}
