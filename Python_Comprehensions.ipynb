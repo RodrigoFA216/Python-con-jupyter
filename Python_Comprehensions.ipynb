{
  "nbformat": 4,
  "nbformat_minor": 0,
  "metadata": {
    "colab": {
      "provenance": []
    },
    "kernelspec": {
      "name": "python3",
      "display_name": "Python 3"
    },
    "language_info": {
      "name": "python"
    }
  },
  "cells": [
    {
      "cell_type": "markdown",
      "source": [
        "# El zen de python\n",
        "\n",
        "El zen de Python, por Tim Peters\n",
        "\n",
        "Lo bonito es mejor que lo feo.\n",
        "Lo explícito es mejor que lo implícito.\n",
        "Simple es mejor que complejo.\n",
        "Complejo es mejor que complicado.\n",
        "Plano es mejor que anidado.\n",
        "Esparcido es mejor que denso.\n",
        "La legibilidad cuenta.\n",
        "Los casos especiales no son tan especiales como para romper las reglas.\n",
        "Aunque la practicidad gana a la pureza.\n",
        "Los errores nunca deben pasar en silencio.\n",
        "A menos que se silencien explícitamente.\n",
        "Ante la ambigüedad, rechaza la tentación de adivinar.\n",
        "Debe haber una -y preferiblemente sólo una- forma obvia de hacerlo.\n",
        "Aunque esa manera puede no ser obvia al principio, a menos que seas holandés.\n",
        "Ahora es mejor que nunca.\n",
        "Aunque a menudo \"nunca\" es mejor que \"ahora mismo\".\n",
        "Si la implementación es difícil de explicar, es una mala idea.\n",
        "Si la implementación es fácil de explicar, puede ser una buena idea.\n",
        "Los espacios de nombres son una gran idea: ¡hagamos más!\n"
      ],
      "metadata": {
        "id": "UnZAU75fcFeT"
      }
    },
    {
      "cell_type": "code",
      "execution_count": null,
      "metadata": {
        "colab": {
          "base_uri": "https://localhost:8080/"
        },
        "id": "zt5wAMROb654",
        "outputId": "a9ec3f71-33cc-4ce0-ab99-f6c38cad60c1"
      },
      "outputs": [
        {
          "output_type": "stream",
          "name": "stdout",
          "text": [
            "The Zen of Python, by Tim Peters\n",
            "\n",
            "Beautiful is better than ugly.\n",
            "Explicit is better than implicit.\n",
            "Simple is better than complex.\n",
            "Complex is better than complicated.\n",
            "Flat is better than nested.\n",
            "Sparse is better than dense.\n",
            "Readability counts.\n",
            "Special cases aren't special enough to break the rules.\n",
            "Although practicality beats purity.\n",
            "Errors should never pass silently.\n",
            "Unless explicitly silenced.\n",
            "In the face of ambiguity, refuse the temptation to guess.\n",
            "There should be one-- and preferably only one --obvious way to do it.\n",
            "Although that way may not be obvious at first unless you're Dutch.\n",
            "Now is better than never.\n",
            "Although never is often better than *right* now.\n",
            "If the implementation is hard to explain, it's a bad idea.\n",
            "If the implementation is easy to explain, it may be a good idea.\n",
            "Namespaces are one honking great idea -- let's do more of those!\n"
          ]
        }
      ],
      "source": [
        "import this"
      ]
    },
    {
      "cell_type": "markdown",
      "source": [
        "# Set / Conjuntos\n",
        "\n",
        "Agrupa elementos que tienen algo en común y tienen diversas características:\n",
        "\n",
        "- son mutables (se pueden modificar)\n",
        "- no tienen un orden específico\n",
        "- no pueden tener elementos duplicados\n",
        "- se pueden convertir desde y hacia una lista\n",
        "\n",
        "Sintaxis: \n",
        "\n",
        "    variable={'elemento1', 'elemento2', 'elementoN'}\n",
        "\n",
        "Funciones de clase:\n",
        "- add(): Añade un elemento.\n",
        "- update(): Añade cualquier tipo de objeto iterable como: listas, tuplas.\n",
        "- discard(): Elimina un elemento y si ya existe no lanza ningún error.\n",
        "- remove(): Elimina un elemento y si este no existe lanza el error “keyError”.\n",
        "- pop(): Nos devuelve un elemento aleatorio y lo elimina y si el conjunto está vacío lanza el error “key error”.\n",
        "- clear(): Elimina todo el contenido del conjunto."
      ],
      "metadata": {
        "id": "VeJ2XOnFc2L4"
      }
    },
    {
      "cell_type": "code",
      "source": [
        "set_countries = {'col', 'mex', 'bol'}\n",
        "print (set_countries)\n",
        "\n",
        "# si yo pongo algo repetido, python lo quita al declararlo\n",
        "set_countries2 = {'col', 'mex', 'bol', 'col'}\n",
        "print (set_countries2) # {'col', 'mex', 'bol'}\n",
        "\n",
        "# puede ser mixto. El set se ordena solo, lo importante es lo que tengo dentro.\n",
        "set_types = {1, 'hola', False, 12.12}\n",
        "print(set_types) # {False, 1, 12.12, 'hola'}\n",
        "\n",
        "# la podemos crear a partir de un string\n",
        "set_from_string = set('hoola')\n",
        "print (set_from_string) # {'a', 'l', 'o', 'h'}\n",
        "\n",
        "# la podemos crear a partir de una tupla\n",
        "set_from_tuples = set (('abc','cbv','as','abc'))\n",
        "print (set_from_tuples) # {'as', 'abc', 'cbv'}\n",
        "\n",
        "# la podemos crear a partir de una lista\n",
        "numbers = [1,2,3,1,2,3,4]\n",
        "set_numbers= set(numbers)\n",
        "print (set_numbers) # {1, 2, 3, 4}\n",
        "\n",
        "# si quiero convertir este set único a una lista, lo puedo hacer:\n",
        "unique_numbers = list(set_numbers)\n",
        "print (unique_numbers)\n",
        "\n",
        "#len() : Devuelve el tamaño del conjunto\n",
        "size = len(set_countries)\n",
        "print(size)\n",
        "\n",
        "#in, permite sabes si un elemento se encuentra en el conjunto, la expresión se \n",
        "#evalua como true si el elemento se encuentra enel conjunto y false si el \n",
        "#elemento nose encuentra en el conjunto\n",
        "print('col' in set_countries)\n",
        "print('pe' in set_countries)\n",
        "\n",
        "# add(): Añade un elemento al conjunto.\n",
        "set_countries.add('pe')\n",
        "print(set_countries)\n",
        "set_countries.add('pe')\n",
        "print(set_countries)\n",
        "\n",
        "# update(): Añade cualquier tipo de objeto iterable como: listas, tuplas\n",
        "set_countries.update({'ar', 'ecua', 'pe'})\n",
        "print(set_countries)\n",
        "\n",
        "# remove(): Elimina un elemento y si este no existe lanza el error “keyError”\n",
        "set_countries.remove('col')\n",
        "print(set_countries)\n",
        "set_countries.remove('ar')\n",
        "\n",
        "#discard(): Elimina un elemento y si no existe no lanza ningún error\n",
        "set_countries.discard('arg')\n",
        "print(set_countries)\n",
        "set_countries.add('arg')\n",
        "print(set_countries)\n",
        "\n",
        "#pop(): Nos devuelve un elemento aleatorio y lo elimina y si el conjunto está \n",
        "#vacío lanza el error “key error”.\n",
        "print(set_countries.pop())\n",
        "print(set_countries)\n",
        "\n",
        "#clear(): Elimina todo el contenido del conjunto\n",
        "set_countries.clear()\n",
        "print(set_countries)\n",
        "print(len(set_countries))"
      ],
      "metadata": {
        "id": "2QvAgcjwdZIT"
      },
      "execution_count": null,
      "outputs": []
    },
    {
      "cell_type": "markdown",
      "source": [
        "# Operaciones con conjuntos\n",
        "\n",
        "Nota: solo se pueden realizar las operaciones entre conjuntos, no se admiten las operaciones entre diccionarios y listas aun que la operación involucre un conjunto.\n",
        "\n",
        "- union(set): Realiza la operacion “union” entre dos conjuntos. La unión entre dos conjuntos es sumar los elementos de estos sin repetir elementos. Esta operación tambien se puede realizar con el signo “|”: \n",
        "\n",
        "Ejemplo:\n",
        "\n",
        "    set_a | set_b.\n",
        "\n",
        "- intersection(set): Realiza la operacion “intersection” entre dos conjuntos. La intersección entre dos conjuntos es tomar unicamente los elementos en común de los conjutnos. Esta operación tambien se puede realizar con el signo “&”: \n",
        "\n",
        "Ejemplo:\n",
        "\n",
        "    set_a & set_b.\n",
        "\n",
        "- difference(set): Realiza la operacion “difference” entre dos conjuntos. La diferencia entre dos conjuntos es restar los elementos del segundo conjunto al primero. Esta operación tambien se puede realizar con el signo “-”: \n",
        "\n",
        "Ejemplo:\n",
        "\n",
        "    set_a - set_b.\n",
        "\n",
        "- symmetric_difference(set): Realiza la operacion “symmetric_difference” entre dos conjuntos. La diferencia simetrica entre dos conjutnos consta de restar todos los elementos de ambos exceptuando el elemento en común. Esta operación tambien se puede realizar con el signo “^”: \n",
        "\n",
        "Ejemplo\n",
        "    \n",
        "    set_a ^ set_b\n",
        "\n",
        "\n",
        "\n"
      ],
      "metadata": {
        "id": "2XtZG3ijf6NH"
      }
    },
    {
      "cell_type": "code",
      "source": [
        "set_a = {'col', 'mex', 'bol'}\n",
        "set_b = {'pe', 'bol'}\n",
        "\n",
        "# unión de los elementos\n",
        "set_c = set_a.union(set_b)\n",
        "print(set_c)          # {'col', 'mex', 'bol', 'pe'}\n",
        "print(set_a | set_b)  # {'col', 'mex', 'bol', 'pe'}\n",
        "\n",
        "# obtener los elementos en común\n",
        "set_c = set_a.intersection(set_b)\n",
        "print(set_c)          # {'bol'}\n",
        "print(set_a & set_b)  # {'bol'}\n",
        "\n",
        "# dejamos sólo los elementos de A\n",
        "set_c = set_a.difference(set_b)\n",
        "print(set_c)          # {'col', 'mex'}\n",
        "print(set_a - set_b)  # {'col', 'mex'}\n",
        "\n",
        "# es hacer una unión, sin los elementos en común\n",
        "set_c = set_a.symmetric_difference(set_b)\n",
        "print(set_c)         # {'col', 'mex', 'pe'}\n",
        "print(set_a ^ set_b) # {'col', 'mex', 'pe'}"
      ],
      "metadata": {
        "id": "orvSxb3QhHVC"
      },
      "execution_count": null,
      "outputs": []
    },
    {
      "cell_type": "markdown",
      "source": [
        "# List comprehension\n",
        "\n",
        "Listas con sintaxis más corta y mejor entendimiento\n",
        "\n",
        "    lista=[elemento for elemento in iterable]"
      ],
      "metadata": {
        "id": "0PcCF7M8ihqn"
      }
    },
    {
      "cell_type": "code",
      "source": [
        "# Declaración normal\n",
        "numbers=[]\n",
        "for element in range(1,11):\n",
        "  numbers.append(str(element))\n",
        "print(numbers)\n",
        "\n",
        "#declaración en comprehension\n",
        "numbersV2=[str(element) for element in range(1,11)]\n",
        "print(numbersV2)"
      ],
      "metadata": {
        "colab": {
          "base_uri": "https://localhost:8080/"
        },
        "id": "QhEw3WxQi_u5",
        "outputId": "76d51e95-6946-4a8c-e4cf-92b1c2f2cbc2"
      },
      "execution_count": null,
      "outputs": [
        {
          "output_type": "stream",
          "name": "stdout",
          "text": [
            "['1', '2', '3', '4', '5', '6', '7', '8', '9', '10']\n",
            "['1', '2', '3', '4', '5', '6', '7', '8', '9', '10']\n"
          ]
        }
      ]
    },
    {
      "cell_type": "markdown",
      "source": [
        "## Extend list comprehension\n",
        "\n",
        "    lista=[elemento for elemento in iterable if condition]"
      ],
      "metadata": {
        "id": "sXrNiV_akePq"
      }
    },
    {
      "cell_type": "code",
      "source": [
        "# Declaración normal\n",
        "numbers=[]\n",
        "for element in range(1,11):\n",
        "  if element%2:\n",
        "    numbers.append(str(element))\n",
        "print(numbers)\n",
        "\n",
        "#declaración en comprehension\n",
        "numbersV2=[str(element) for element in range(1,11) if element%2]\n",
        "print(numbersV2)"
      ],
      "metadata": {
        "colab": {
          "base_uri": "https://localhost:8080/"
        },
        "id": "RoaifuFnkwt2",
        "outputId": "d30d6c4d-683b-42ca-b09f-35144695d2d9"
      },
      "execution_count": null,
      "outputs": [
        {
          "output_type": "stream",
          "name": "stdout",
          "text": [
            "['1', '3', '5', '7', '9']\n",
            "['1', '3', '5', '7', '9']\n"
          ]
        }
      ]
    },
    {
      "cell_type": "markdown",
      "source": [
        "# Dictionary comprehension\n",
        "\n",
        "Diccionarios con sintaxis más corta y mejor rendimiento\n",
        "\n",
        "    dictionary={key:element for element in iterable}"
      ],
      "metadata": {
        "id": "KkCxyK9nlHiF"
      }
    },
    {
      "cell_type": "code",
      "source": [
        "#declaración normal\n",
        "dictionary={}\n",
        "for i in range(1,11):\n",
        "  dictionary[i]=i*2\n",
        "print(dictionary)\n",
        "\n",
        "#Declaración en comprehension\n",
        "dictionaryV2={i:i*2 for i in range(1,11)}\n",
        "print(dictionaryV2)"
      ],
      "metadata": {
        "colab": {
          "base_uri": "https://localhost:8080/"
        },
        "id": "2kKnjnMqlqXe",
        "outputId": "611d3706-9235-43ce-b65c-3f74524698fa"
      },
      "execution_count": null,
      "outputs": [
        {
          "output_type": "stream",
          "name": "stdout",
          "text": [
            "{1: 2, 2: 4, 3: 6, 4: 8, 5: 10, 6: 12, 7: 14, 8: 16, 9: 18, 10: 20}\n",
            "{1: 2, 2: 4, 3: 6, 4: 8, 5: 10, 6: 12, 7: 14, 8: 16, 9: 18, 10: 20}\n"
          ]
        }
      ]
    },
    {
      "cell_type": "markdown",
      "source": [
        "## Extend dictionary comprehension\n",
        "\n",
        "podemos añadir if en un dictionary comprehension así como se hacía con el list comprehension\n",
        "\n",
        "    dictionary={key:element for element in iterable if condition}\n",
        "\n",
        "y si a demás de esto se tiene un elemento iterable del que se pueden sacar los datos para las keys se puede reemplazar el iterable por la posición deseada de el iterable.\n",
        "\n",
        "    key=['','','']\n",
        "    dictionary={key[element]:element for element in iterable}"
      ],
      "metadata": {
        "id": "d6ZfHe2mmj4g"
      }
    },
    {
      "cell_type": "code",
      "source": [
        "import random as rd#utilidad para generara elementos aleatorios\n",
        "countries=['col','mex', 'per', 'bol']\n",
        "population={}\n",
        "for country in countries:\n",
        "  population[country]=rd.randint(1,10)\n",
        "print(population)\n",
        "\n",
        "populationV2={country:rd.randint(1,10) for country in countries}\n",
        "print(populationV2)\n",
        "\n",
        "#obtener las keys de un iterable distinto\n",
        "names = ['nico', 'zule', \"santi\"]\n",
        "edades = [12,56,98]\n",
        "muestra = {names[i]:edades[i] for i in range(len(names))}\n",
        "print(muestra)#si las listas no son del mismo largo va a tener errores?\n",
        "\n",
        "#aun que se puede evitar esto usando métodos de listas\n",
        "print(list(zip(names,edades))) #Regresa pares de tuplas [('nico', 12), ('zule', 56), ('santi', 98)]\n",
        "new_dict={name:edad for (name, edad) in zip(names,edades)}\n",
        "print(new_dict)\n",
        "\n",
        "#add conditional\n",
        "dictionary={}\n",
        "for element in range(1,11):\n",
        "  if element%2==0:\n",
        "    dictionary.update({element:element*2})\n",
        "print('DictV1 ', dictionary)\n",
        "\n",
        "#Comprehension\n",
        "dictionaryV2={element:element*2 for element in range(1,11) if element%2==0}\n",
        "print('DictV2 ', dictionaryV2)"
      ],
      "metadata": {
        "colab": {
          "base_uri": "https://localhost:8080/"
        },
        "id": "kAotTQD8njBi",
        "outputId": "dbddd5f1-39dc-4386-d488-755b72affe16"
      },
      "execution_count": null,
      "outputs": [
        {
          "output_type": "stream",
          "name": "stdout",
          "text": [
            "{'col': 6, 'mex': 10, 'per': 2, 'bol': 3}\n",
            "{'col': 7, 'mex': 3, 'per': 5, 'bol': 9}\n",
            "{'nico': 12, 'zule': 56, 'santi': 98}\n",
            "[('nico', 12), ('zule', 56), ('santi', 98)]\n",
            "{'nico': 12, 'zule': 56, 'santi': 98}\n",
            "DictV1  {2: 4, 4: 8, 6: 12, 8: 16, 10: 20}\n",
            "DictV2  {2: 4, 4: 8, 6: 12, 8: 16, 10: 20}\n"
          ]
        }
      ]
    },
    {
      "cell_type": "markdown",
      "source": [
        "### Ejercicio propuesto\n",
        "\n",
        "- Genere un diccionario usando comprehension para poder guardar una relación llave valor con el conteo de las vocales de una palabra introducida \n",
        "- Genere un diccionario usando comprehension para poder guardar una ralación llave valor con las vocales de una palabra introducida "
      ],
      "metadata": {
        "id": "gJ200Ww3x4pC"
      }
    },
    {
      "cell_type": "code",
      "source": [
        "#Ejercicio 1\n",
        "palabra=str(input(\"Digita la palabra=> \"))\n",
        "dictionary={char:palabra.count(char) for char in palabra if char in 'aeiou'}\n",
        "print(dictionary)\n",
        "\n",
        "#ejercicio2\n",
        "palabra=str(input(\"Digita la palabra=> \"))\n",
        "dictionaryV2={char:char.upper() for char in palabra if char in 'aeiou'}\n",
        "print(dictionaryV2)"
      ],
      "metadata": {
        "colab": {
          "base_uri": "https://localhost:8080/"
        },
        "id": "d2sqEgzqyMeT",
        "outputId": "68573248-8d25-45dc-983e-dfe71f71d59d"
      },
      "execution_count": null,
      "outputs": [
        {
          "output_type": "stream",
          "name": "stdout",
          "text": [
            "Digita la palabra=> padre\n",
            "{'a': 1, 'e': 1}\n",
            "Digita la palabra=> padre\n",
            "{'a': 'A', 'e': 'E'}\n"
          ]
        }
      ]
    }
  ]
}