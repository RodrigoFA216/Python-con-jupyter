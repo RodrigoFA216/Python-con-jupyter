{
  "nbformat": 4,
  "nbformat_minor": 0,
  "metadata": {
    "colab": {
      "provenance": []
    },
    "kernelspec": {
      "name": "python3",
      "display_name": "Python 3"
    },
    "language_info": {
      "name": "python"
    }
  },
  "cells": [
    {
      "cell_type": "markdown",
      "source": [
        "# Detección basada en densidad\n",
        "\n",
        "Este enfoque se basa en la idea de que los puntos de datos que están en áreas de baja densidad en el espacio de características son probablemente outliers. Es un enfoque para detectar outliers que se basa en la idea de que los puntos de datos que están en áreas de baja densidad en el espacio de características son probablemente outliers. Estos modelos son más robustos a los valores atípicos en los datos, ya que no dependen de una métrica de distancia o de una hipótesis previa sobre la forma de los datos.\n",
        "\n",
        "Un ejemplo de un algoritmo de detección basado en densidad es el Algoritmo de detección de outliers basado en Gaussianas (GAODE, por sus siglas en inglés). Este algoritmo funciona asignando probabilidades a cada punto de datos en función de una hipótesis previa sobre la forma de los datos. La hipótesis previa en este caso es que los datos provienen de una distribución Gaussiana. Luego, se puede calcular la probabilidad de que un punto de datos particular sea un outlier en función de la probabilidad asignada a ese punto.\n",
        "\n",
        "Para implementar GAODE, primero se estima un modelo Gaussiano para cada característica en los datos. Luego, para cada punto de datos, se calcula la probabilidad de que ese punto sea generado por cada uno de los modelos Gaussianos. Finalmente, se asigna una probabilidad total a cada punto de datos como la producto de las probabilidades de cada característica y se utiliza un umbral para clasificar los puntos de datos como outliers o no outliers.\n",
        "\n",
        "Este enfoque es más robusto que la detección basada en distancias, ya que no requiere la identificación previa de una métrica de distancia o la hipótesis previa de que los datos siguen una forma específica. Sin embargo, es importante tener en cuenta que esta técnica puede ser más compleja de implementar que otras técnicas de detección basadas en distancias o en otros enfoques."
      ],
      "metadata": {
        "id": "l4ynduesw7lF"
      }
    },
    {
      "cell_type": "markdown",
      "source": [
        "#Librerías necesarias\n",
        "\n",
        "- Numpy\n",
        "- Sci-kit Learn\n",
        "- Matblotlib"
      ],
      "metadata": {
        "id": "i19-jWA-sLhl"
      }
    },
    {
      "cell_type": "code",
      "execution_count": 1,
      "metadata": {
        "colab": {
          "base_uri": "https://localhost:8080/"
        },
        "id": "Jrt-y51ZqUQJ",
        "outputId": "2c8a1bc9-be21-44c6-cb4a-69c35b5520ff"
      },
      "outputs": [
        {
          "output_type": "stream",
          "name": "stdout",
          "text": [
            "Looking in indexes: https://pypi.org/simple, https://us-python.pkg.dev/colab-wheels/public/simple/\n",
            "Requirement already satisfied: scikit-learn in /usr/local/lib/python3.8/dist-packages (1.0.2)\n",
            "Collecting scikit-learn\n",
            "  Downloading scikit_learn-1.2.1-cp38-cp38-manylinux_2_17_x86_64.manylinux2014_x86_64.whl (9.8 MB)\n",
            "\u001b[2K     \u001b[90m━━━━━━━━━━━━━━━━━━━━━━━━━━━━━━━━━━━━━━━━\u001b[0m \u001b[32m9.8/9.8 MB\u001b[0m \u001b[31m42.4 MB/s\u001b[0m eta \u001b[36m0:00:00\u001b[0m\n",
            "\u001b[?25hRequirement already satisfied: threadpoolctl>=2.0.0 in /usr/local/lib/python3.8/dist-packages (from scikit-learn) (3.1.0)\n",
            "Requirement already satisfied: numpy>=1.17.3 in /usr/local/lib/python3.8/dist-packages (from scikit-learn) (1.21.6)\n",
            "Requirement already satisfied: scipy>=1.3.2 in /usr/local/lib/python3.8/dist-packages (from scikit-learn) (1.7.3)\n",
            "Requirement already satisfied: joblib>=1.1.1 in /usr/local/lib/python3.8/dist-packages (from scikit-learn) (1.2.0)\n",
            "Installing collected packages: scikit-learn\n",
            "  Attempting uninstall: scikit-learn\n",
            "    Found existing installation: scikit-learn 1.0.2\n",
            "    Uninstalling scikit-learn-1.0.2:\n",
            "      Successfully uninstalled scikit-learn-1.0.2\n",
            "Successfully installed scikit-learn-1.2.1\n"
          ]
        }
      ],
      "source": [
        "!pip install -U scikit-learn"
      ]
    },
    {
      "cell_type": "code",
      "source": [
        "!pip install matplotlib"
      ],
      "metadata": {
        "colab": {
          "base_uri": "https://localhost:8080/"
        },
        "id": "P7YKAm-CsszR",
        "outputId": "ae66aaa3-17e4-4cae-fcb8-cbc3af0aee30"
      },
      "execution_count": 2,
      "outputs": [
        {
          "output_type": "stream",
          "name": "stdout",
          "text": [
            "Looking in indexes: https://pypi.org/simple, https://us-python.pkg.dev/colab-wheels/public/simple/\n",
            "Requirement already satisfied: matplotlib in /usr/local/lib/python3.8/dist-packages (3.2.2)\n",
            "Requirement already satisfied: kiwisolver>=1.0.1 in /usr/local/lib/python3.8/dist-packages (from matplotlib) (1.4.4)\n",
            "Requirement already satisfied: pyparsing!=2.0.4,!=2.1.2,!=2.1.6,>=2.0.1 in /usr/local/lib/python3.8/dist-packages (from matplotlib) (3.0.9)\n",
            "Requirement already satisfied: cycler>=0.10 in /usr/local/lib/python3.8/dist-packages (from matplotlib) (0.11.0)\n",
            "Requirement already satisfied: python-dateutil>=2.1 in /usr/local/lib/python3.8/dist-packages (from matplotlib) (2.8.2)\n",
            "Requirement already satisfied: numpy>=1.11 in /usr/local/lib/python3.8/dist-packages (from matplotlib) (1.21.6)\n",
            "Requirement already satisfied: six>=1.5 in /usr/local/lib/python3.8/dist-packages (from python-dateutil>=2.1->matplotlib) (1.15.0)\n"
          ]
        }
      ]
    },
    {
      "cell_type": "code",
      "source": [
        "!pip install numpy"
      ],
      "metadata": {
        "colab": {
          "base_uri": "https://localhost:8080/"
        },
        "id": "Jcf-VZKXsxG3",
        "outputId": "b70791f2-3957-4aff-e904-ef6374ef0231"
      },
      "execution_count": 3,
      "outputs": [
        {
          "output_type": "stream",
          "name": "stdout",
          "text": [
            "Looking in indexes: https://pypi.org/simple, https://us-python.pkg.dev/colab-wheels/public/simple/\n",
            "Requirement already satisfied: numpy in /usr/local/lib/python3.8/dist-packages (1.21.6)\n"
          ]
        }
      ]
    },
    {
      "cell_type": "markdown",
      "source": [
        "## Imports de las librerías\n",
        "\n",
        "Numpy como np\n",
        "\n",
        "Pyplot de matplotlib como plt\n",
        "\n",
        "De neighbors que viene de sklearn importamos LocalOutlierFactor"
      ],
      "metadata": {
        "id": "AUeHDS4vwCB5"
      }
    },
    {
      "cell_type": "code",
      "source": [
        "import numpy as np\n",
        "import matplotlib.pyplot as plt\n",
        "from sklearn.neighbors import LocalOutlierFactor"
      ],
      "metadata": {
        "id": "VJvMPV99wl8U"
      },
      "execution_count": 4,
      "outputs": []
    },
    {
      "cell_type": "markdown",
      "source": [
        "## Generar datos sintéticos para el análisis\n",
        "\n",
        "1. numpy configurará la generación de datos random con una semilla 42\n",
        "2. generaré datos de 100 filas por dos columnas\n",
        "3. generaré datos que funcionarán de outliers entre -4 y 4 de 20 filas y dos columnas\n",
        "4. concatenamos en x las matrices que ya habíamos hecho, \n",
        "  - en primer lugar concatenamos x desplazado en 2 y x desplazado en -2 (en x y y) y concatenamos los outliers \n",
        "  - esto va a generar una dispersión atípica de los valores outliers\n",
        "    - no importa el orden en que sean concatenados mientras estén en un solo objeto\n"
      ],
      "metadata": {
        "id": "kSDU8wTQxz46"
      }
    },
    {
      "cell_type": "code",
      "source": [
        "# 1\n",
        "np.random.seed(42)\n",
        "# 2\n",
        "X = 0.3 * np.random.randn(100, 2)\n",
        "# 3\n",
        "X_outliers = np.random.uniform(low=-4, high=4, size=(20, 2))\n",
        "# 4\n",
        "X = np.r_[X + 2, X - 2, X_outliers]"
      ],
      "metadata": {
        "id": "SEJdJ1P2yaEf"
      },
      "execution_count": 8,
      "outputs": []
    },
    {
      "cell_type": "markdown",
      "source": [
        "## Ajustar el modelo de detección de outliers\n",
        "\n",
        "1. crea un objeto del modelo de detección basado en densidad llamado LocalOutlierFactor\n",
        "  - Un punto es considerado un outlier si su densidad de vecinos es muy baja en comparación con la densidad de los vecinos de los demás puntos\n",
        "  - La variable n_neighbors se utiliza para especificar el número de vecinos más cercanos que se utilizarán para calcular la densidad\n",
        "3. se ajusta el modelo de detección dando como parámetros el conjunto X que recordando el conjunto original se transformó en x+2 y x-2 dentro de x"
      ],
      "metadata": {
        "id": "lGmRS3s3zAl3"
      }
    },
    {
      "cell_type": "code",
      "source": [
        "# 1\n",
        "clf = LocalOutlierFactor(n_neighbors=10)\n",
        "# 2\n",
        "y_pred = clf.fit_predict(X)"
      ],
      "metadata": {
        "id": "uz7nOWuHzvhn"
      },
      "execution_count": 9,
      "outputs": []
    },
    {
      "cell_type": "markdown",
      "source": [
        "## Graficar resultados\n",
        "\n",
        "1. se crea un objeto colors donde se etiquetarán de azul #377EB8 los outliers y de naranja #FF7F00 los datos que son representativos.\n",
        "2. Grafica primera columna en x y segunda columna en Y\n",
        "  - Usa colors para asignar colores a los puntos y_pred contiene las etiquetas de predicción devueltas por el modelo LocalOutlierFactor.\n",
        "  - La expresión `color=colors[(y_pred + 1) // 2]` se utiliza para asignar un color a cada punto en función de su etiqueta de predicción. \n",
        "    - Si un punto es considerado un outlier (y_pred = -1), se le asigna el primer color de la lista colors.\n",
        "    - Si no es un outlier (y_pred = 1), se le asigna el segundo color. \n",
        "  - La expresión (y_pred + 1) // 2 se utiliza para mapear los valores de y_pred a los índices de los colores en la lista.\n",
        "3. Se delimitan los ejes de la gráfica desde -5 a 5 en x y en y para alcanzar a graficar los puntos ya que recordando todo se realiza desde -4 a 4 tanto en X como en Y\n",
        "4. Se grafica"
      ],
      "metadata": {
        "id": "wcsNKuJZ0XXa"
      }
    },
    {
      "cell_type": "code",
      "source": [
        "# 1\n",
        "colors = np.array(['#377eb8', '#ff7f00'])\n",
        "# 2\n",
        "plt.scatter(X[:, 0], X[:, 1], color=colors[(y_pred + 1) // 2])\n",
        "# 3\n",
        "plt.xlim((-5, 5))\n",
        "plt.ylim((-5, 5))\n",
        "# 4\n",
        "plt.show()"
      ],
      "metadata": {
        "colab": {
          "base_uri": "https://localhost:8080/",
          "height": 265
        },
        "id": "dQHmF-241ODk",
        "outputId": "f805b446-70b7-444a-da3f-e9d2a88bb9fc"
      },
      "execution_count": 10,
      "outputs": [
        {
          "output_type": "display_data",
          "data": {
            "text/plain": [
              "<Figure size 432x288 with 1 Axes>"
            ],
            "image/png": "[encoded data removed]"
          },
          "metadata": {
            "needs_background": "light"
          }
        }
      ]
    }
  ]
}