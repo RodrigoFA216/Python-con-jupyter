{
  "nbformat": 4,
  "nbformat_minor": 0,
  "metadata": {
    "colab": {
      "provenance": [],
      "toc_visible": true
    },
    "kernelspec": {
      "name": "python3",
      "display_name": "Python 3"
    },
    "language_info": {
      "name": "python"
    }
  },
  "cells": [
    {
      "cell_type": "markdown",
      "source": [
        "# Funciones\n",
        "\n",
        "Son partes de código que se componen de tres etapas, declaración, inicialización e implementación.\n",
        "\n",
        "Se declara una función con el keyword 'def' y se inicializa al presentar una sintaxis válida\n",
        "\n",
        "Sintaxis: \n",
        "\n",
        "    def function(argumento):\n",
        "      something\n",
        "\n",
        "La implementación se logra al invocar la funciónde la siguiente forma:\n",
        "\n",
        "    def suma():\n",
        "      c=a+b\n",
        "    suma()"
      ],
      "metadata": {
        "id": "B3SxVGDGE-AV"
      }
    },
    {
      "cell_type": "code",
      "execution_count": null,
      "metadata": {
        "colab": {
          "base_uri": "https://localhost:8080/"
        },
        "id": "XIJWFv0LExUU",
        "outputId": "0b478769-8903-4c7c-ff43-2536f1be172b"
      },
      "outputs": [
        {
          "output_type": "stream",
          "name": "stdout",
          "text": [
            "hi\n",
            "hihi\n",
            "3\n"
          ]
        }
      ],
      "source": [
        "print(\"hi\")\n",
        "\n",
        "def my_print(arg):\n",
        "  print(arg*2)\n",
        "\n",
        "my_print('hi')\n",
        "\n",
        "def suma(a,b):\n",
        "  print(a+b)\n",
        "\n",
        "suma(1,2)"
      ]
    },
    {
      "cell_type": "markdown",
      "source": [
        "## Return\n",
        "\n",
        "Permite que las funciones nos regresen un valor para poder usado en posterior"
      ],
      "metadata": {
        "id": "FyEkGOFqJcZZ"
      }
    },
    {
      "cell_type": "code",
      "source": [
        "#simil sin necesidad de las funciones\n",
        "sum=0\n",
        "for x in range(1,10):\n",
        "  sum+=x\n",
        "print(sum)\n",
        "\n",
        "#que pasaría si quisiera cambiar de rango? necesitaría escribir muchas veces la ecuación\n",
        "def function(a,b):\n",
        "  sum=0\n",
        "  for x in range(a,b):\n",
        "    sum+=x\n",
        "  print(sum)\n",
        "a=7\n",
        "b=14\n",
        "function(a,b)\n",
        "\n",
        "#hagamos que regrese el valor\n",
        "def sumrange(min, max):\n",
        "  print(min,max)\n",
        "  sum=0\n",
        "  for x in range(min, max):\n",
        "    sum+=x\n",
        "  return sum\n",
        "\n",
        "print(sumrange(1,15))\n"
      ],
      "metadata": {
        "colab": {
          "base_uri": "https://localhost:8080/"
        },
        "id": "_0eM2QA-J2UW",
        "outputId": "e9e2000d-98c9-4f06-efd0-25f780ae6c2c"
      },
      "execution_count": null,
      "outputs": [
        {
          "output_type": "stream",
          "name": "stdout",
          "text": [
            "45\n",
            "70\n",
            "1 15\n",
            "105\n"
          ]
        }
      ]
    },
    {
      "cell_type": "markdown",
      "source": [
        "### Ejercicio propuesto\n",
        "\n",
        "Cree una función que cuente desde 1 a N números y los guarde en un Array\n"
      ],
      "metadata": {
        "id": "Pa5MHLl1MeIZ"
      }
    },
    {
      "cell_type": "code",
      "source": [
        "def function(a):\n",
        "  final=[]\n",
        "  for x in range(0,a):\n",
        "    final.append(x)\n",
        "  return final\n",
        "print(function(20))"
      ],
      "metadata": {
        "colab": {
          "base_uri": "https://localhost:8080/"
        },
        "id": "L2huQJLpu6iP",
        "outputId": "96cc6b21-44c0-4cc0-f06e-008a936da648"
      },
      "execution_count": null,
      "outputs": [
        {
          "output_type": "stream",
          "name": "stdout",
          "text": [
            "[0, 1, 2, 3, 4, 5, 6, 7, 8, 9, 10, 11, 12, 13, 14, 15, 16, 17, 18, 19]\n"
          ]
        }
      ]
    },
    {
      "cell_type": "markdown",
      "source": [
        "## Parámetros por defecto y returns múltiples\n",
        "\n",
        "Si inicializamos una función con un paso de variables mediante argumentos y al momento de la ejecución no enviamos uno o más parámetros esto provocará un  error interno al estar esperando esas variables.\n",
        "\n",
        "Para evitar esto podemos especificar parámetros con valores por defecto y evitar el error antes de que llegue a suceder"
      ],
      "metadata": {
        "id": "1-vrOLCJ0IAz"
      }
    },
    {
      "cell_type": "code",
      "source": [
        "#Previniendo error por no pasar ningún dato\n",
        "def volumen(alto=1, ancho=1, prof=1):\n",
        "  return alto*ancho*prof\n",
        "\n",
        "print(volumen())\n",
        "print(volumen(10,10,10))\n",
        "\n",
        "#se puede enviar solo ciertos valores de la siguiente forma:\n",
        "\n",
        "print(volumen(alto=10, ancho=10))\n",
        "\n",
        "#podemos modificar la función return para poder retornar más de una sentencia\n",
        "\n",
        "def area_triang(base,altura):\n",
        "  return ((base*altura)//2), \"triángulo\", False #regresa una tupla\n",
        "\n",
        "print(area_triang(10,20))\n",
        "\n",
        "#sin embargo se puede hacer un destructuring\n",
        "area, figura, status = area_triang(10,20)\n",
        "print(area)\n",
        "print(figura)\n",
        "print(status)\n"
      ],
      "metadata": {
        "colab": {
          "base_uri": "https://localhost:8080/"
        },
        "id": "0ZhVHhZLDimi",
        "outputId": "69c2ecbb-62a8-415c-d00e-79e54fecc542"
      },
      "execution_count": null,
      "outputs": [
        {
          "output_type": "stream",
          "name": "stdout",
          "text": [
            "1\n",
            "1000\n",
            "100\n",
            "(100, 'triángulo', False)\n",
            "100\n",
            "triángulo\n",
            "False\n"
          ]
        }
      ]
    },
    {
      "cell_type": "markdown",
      "source": [
        "## Scope\n",
        "\n",
        "Dentro de una función puede haber variables, las cuales se llaman variables locales. Estas variables locales, se identifican porque están escritas dentro de la definición de la función (después del : ); y únicamente funcionan mientras que la función sea llamada o utilizada. Si vas a llamar a una variable local por fuera de la función, no servirá.\n",
        "\n",
        "Y existen variables globales, que son las que están escritas fuera de una función. Estas variables si funcionan al ser llamadas sin la función, porque no están determinadas dentro de la función."
      ],
      "metadata": {
        "id": "2QD9AJkAF2Sr"
      }
    },
    {
      "cell_type": "code",
      "source": [
        "#sum es una variable local\n",
        "def suma_iter():\n",
        "  sum=0\n",
        "  for x in range(1,10):\n",
        "    sum+=x\n",
        "  print(sum)\n",
        "print(sum)\n",
        "suma_iter\n",
        "\n",
        "#sum es una variable global\n",
        "sum=0\n",
        "def suma_iter1():\n",
        "  for x in range(1,10):\n",
        "    sum+=x\n",
        "  print(sum)\n",
        "print(sum)\n",
        "#suma_iter1() \n",
        "#El ejecutar la función nos traería el siguiente error:\n",
        "\n",
        "#---------------------------------------------------------------------------\n",
        "#UnboundLocalError                         Traceback (most recent call last)\n",
        "#<ipython-input-26-69e928ec30d6> in <module>\n",
        "#     15   print(sum)\n",
        "#     16 print(sum)\n",
        "#---> 17 suma_iter1()\n",
        "#     18 \n",
        "\n",
        "#<ipython-input-26-69e928ec30d6> in suma_iter1()\n",
        "#     12 def suma_iter1():\n",
        "#     13   for x in range(1,10):\n",
        "#---> 14     sum+=x\n",
        "#     15   print(sum)\n",
        "#     16 print(sum)\n",
        "\n",
        "#UnboundLocalError: local variable 'sum' referenced before assignment\n",
        "\n",
        "# se puede evitar el error dividiendo el scope de la siguiente forma:\n",
        "\n",
        "price=100\n",
        "def increment():\n",
        "  price=100 #se asigna en el nuevo contexto\n",
        "  price+=10\n",
        "  print(price)\n",
        "  return price\n",
        "print(price)\n",
        "print(increment())"
      ],
      "metadata": {
        "colab": {
          "base_uri": "https://localhost:8080/"
        },
        "id": "sgnVF-DeGKdl",
        "outputId": "79bcf943-1764-4485-db76-21e0787732e8"
      },
      "execution_count": null,
      "outputs": [
        {
          "output_type": "stream",
          "name": "stdout",
          "text": [
            "0\n",
            "0\n",
            "100\n",
            "110\n",
            "110\n"
          ]
        }
      ]
    },
    {
      "cell_type": "markdown",
      "source": [
        "Es decir que una variable o dato solo puede usarse dentro de su contexto, para verlo más claro inspecciona el siguiente código:"
      ],
      "metadata": {
        "id": "2cjsjBdNIofl"
      }
    },
    {
      "cell_type": "code",
      "source": [
        "price=100\n",
        "def increment():\n",
        "  price=100 #se asigna en el nuevo contexto\n",
        "  result=price+10\n",
        "  print(result)\n",
        "  return result\n",
        "print(price)\n",
        "print(increment())\n",
        "#print(result) #aquí está el error:\n",
        "\n",
        "#---------------------------------------------------------------------------\n",
        "#NameError                                 Traceback (most recent call last)\n",
        "#<ipython-input-30-8d64f9173702> in <module>\n",
        "#      7 print(price)\n",
        "#      8 print(increment())\n",
        "#----> 9 print(result) #aquí está el error:\n",
        "\n",
        "#NameError: name 'result' is not defined"
      ],
      "metadata": {
        "colab": {
          "base_uri": "https://localhost:8080/"
        },
        "id": "Qpj9Xuc3Itcy",
        "outputId": "a19aeb28-3807-425c-ba59-a7af219968e0"
      },
      "execution_count": null,
      "outputs": [
        {
          "output_type": "stream",
          "name": "stdout",
          "text": [
            "100\n",
            "110\n",
            "110\n"
          ]
        }
      ]
    },
    {
      "cell_type": "markdown",
      "source": [
        "# Funciones Anónimas\n",
        "\n",
        "La sintaxis de una función normal es la siguiente:\n",
        "\n",
        "    def function(argument):\n",
        "      return ret_value\n",
        "\n",
        "La sintaxis de una función lambda es la siguiente:\n",
        "\n",
        "    func = lambda arguments: ret_value\n",
        "    "
      ],
      "metadata": {
        "id": "c48RNMlEMAK7"
      }
    },
    {
      "cell_type": "code",
      "source": [
        "#forma normal\n",
        "def increment(x):\n",
        "  return x+1\n",
        "\n",
        "#forma lambda\n",
        "inc = lambda x : x+1\n",
        "\n",
        "print(increment(10))\n",
        "print(inc(10))\n",
        "\n",
        "fullname=lambda name, last_name : f'El nombre completo es: {name} {last_name}'\n",
        "print(fullname('Rodrigo', 'Flores'))"
      ],
      "metadata": {
        "colab": {
          "base_uri": "https://localhost:8080/"
        },
        "id": "DZ90lEJfOUiW",
        "outputId": "c907ff25-4799-4974-c756-19cddef86627"
      },
      "execution_count": null,
      "outputs": [
        {
          "output_type": "stream",
          "name": "stdout",
          "text": [
            "11\n",
            "11\n",
            "El nombre completo es: Rodrigo Flores\n"
          ]
        }
      ]
    },
    {
      "cell_type": "markdown",
      "source": [
        "# Funciones de alto orden o 'HOF'\n",
        "\n",
        "A una función le podemos enviar otra función para ser ejecutada dentro de ella"
      ],
      "metadata": {
        "id": "xnykgi9zPq4Q"
      }
    },
    {
      "cell_type": "code",
      "source": [
        "#sintaxis normal\n",
        "def increment(x):\n",
        "  return x+1\n",
        "\n",
        "def high(x, func):\n",
        "  return x + func(x)\n",
        "#return 7+(7+1)\n",
        "\n",
        "result = high(7, increment)\n",
        "print(result)\n",
        "\n",
        "#sintaxis usando lambda\n",
        "incremento=lambda x:x+1\n",
        "high_ord=lambda x, func: x+func(x)\n",
        "res=high_ord(2,incremento)\n",
        "print(res)\n",
        "\n",
        "#ventajas: Podemos definirlas y usarlas al mismo tiempo\n",
        "res=high_ord(2, lambda x:x**2)\n",
        "print(res)\n",
        "print(high_ord(2, lambda x:x//3))"
      ],
      "metadata": {
        "colab": {
          "base_uri": "https://localhost:8080/"
        },
        "id": "0r9LLmQ1QFsT",
        "outputId": "3fc4a7ba-c221-4222-f553-8b62e46eb4d7"
      },
      "execution_count": null,
      "outputs": [
        {
          "output_type": "stream",
          "name": "stdout",
          "text": [
            "15\n",
            "5\n",
            "6\n",
            "2\n"
          ]
        }
      ]
    },
    {
      "cell_type": "markdown",
      "source": [
        "# Función map()\n",
        "\n",
        "La función map () ejecuta una función especifica para cada elemento en un iterable y el elemento se envía a la función como un parámetro.\n",
        "\n",
        "Sintaxis.\n",
        "    \n",
        "    map(function, iterables)\n",
        "\n",
        "Nota: Se detendrá en el arreglo más corto si se iteran dos arreglos\n"
      ],
      "metadata": {
        "id": "SWV1fYuXTT91"
      }
    },
    {
      "cell_type": "code",
      "source": [
        "numbers=[1,2,3,4,5]\n",
        "numb_proces=[]\n",
        "for i in numbers:\n",
        "  numb_proces.append(i*2)\n",
        "print(numbers)\n",
        "print(numb_proces)\n",
        "\n",
        "new_nums=list(map(lambda i:i*2, numbers))\n",
        "\n",
        "print(new_nums)\n",
        "\n",
        "\n"
      ],
      "metadata": {
        "colab": {
          "base_uri": "https://localhost:8080/"
        },
        "id": "o6q6gNhDURS_",
        "outputId": "994f5e68-596b-4303-fa05-c319f40213aa"
      },
      "execution_count": null,
      "outputs": [
        {
          "output_type": "stream",
          "name": "stdout",
          "text": [
            "[1, 2, 3, 4, 5]\n",
            "[2, 4, 6, 8, 10]\n",
            "[2, 4, 6, 8, 10]\n"
          ]
        }
      ]
    },
    {
      "cell_type": "markdown",
      "source": [
        "## map() con diccionarios\n",
        "\n",
        "Necesitamos transformar de una lista de diccionarios extraer una lista de precios"
      ],
      "metadata": {
        "id": "mHmzNOQQD0N9"
      }
    },
    {
      "cell_type": "code",
      "source": [
        "items =[\n",
        "    {\n",
        "        'product': 'shirt',\n",
        "        'price':120\n",
        "    },\n",
        "    {\n",
        "        'product': 'pants',\n",
        "        'price':160\n",
        "    },\n",
        "    {\n",
        "        'product': 'jacket',\n",
        "        'price':205\n",
        "    }\n",
        "]\n",
        "\n",
        "#resultado deseado: prices=[120, 160, 205]\n"
      ],
      "metadata": {
        "id": "fkBbsJ9rEJM6"
      },
      "execution_count": null,
      "outputs": []
    }
  ]
}