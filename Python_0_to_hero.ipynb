{
  "nbformat": 4,
  "nbformat_minor": 0,
  "metadata": {
    "colab": {
      "provenance": []
    },
    "kernelspec": {
      "name": "python3",
      "display_name": "Python 3"
    },
    "language_info": {
      "name": "python"
    }
  },
  "cells": [
    {
      "cell_type": "markdown",
      "source": [
        "# Mostrar datos por consola (out de datos)\n",
        "\n",
        "La función print recibe como parámetros variables o strings que se pueden concatenar con más strings o variables, al igual que en JS con la inserción y concatenación se pueden insertar valores dentro de strings con \"{}\" sin embargo se usa la función format"
      ],
      "metadata": {
        "id": "lYvddTaSHam3"
      }
    },
    {
      "cell_type": "code",
      "execution_count": null,
      "metadata": {
        "colab": {
          "base_uri": "https://localhost:8080/"
        },
        "id": "7tDuqkr2HUKd",
        "outputId": "3b49f973-e24c-4c6a-c99f-140333bedc56"
      },
      "outputs": [
        {
          "output_type": "stream",
          "name": "stdout",
          "text": [
            "v1  Hola RodrigoFlores , tu edad es  22\n",
            "v2 Hola mi nombre es Rodrigo y mi apellido es Flores, tu edad es 22\n",
            "v3 Hola RodrigoFlores , tu edad es 22\n",
            "v4 Hola Rodrigo Flores, tu edad es 22\n",
            "V5 Hola Rodrigo Flores, tu edad es 22\n"
          ]
        }
      ],
      "source": [
        "name = \"Rodrigo\"\n",
        "last_name= \"Flores\"\n",
        "age = 22\n",
        "\n",
        "#Creas un string y luego lo mandas a imprimir\n",
        "template=\"Hola \"+ name + last_name +\" , tu edad es \" \n",
        "print('v1 ', template, age)#adicionalmente concatenas la edad, algunos compiladores impuden la concatenación de ints con strings\n",
        "\n",
        "#creas un string y con la función format introduces los valores en las llaves {}\n",
        "template=\"Hola mi nombre es {} y mi apellido es {}, tu edad es {}\".format(name,last_name,age)\n",
        "print('v2',template)\n",
        "\n",
        "#imprimir todo concatenando strings y datos\n",
        "print(\"v3 Hola \"+ name + last_name +\" , tu edad es \" + str(age))\n",
        "\n",
        "#usar la función format como f al inicio del string como si fuera un parámetro de template\n",
        "template = f\"Hola {name} {last_name}, tu edad es {age}\"\n",
        "print('v4',template)\n",
        "\n",
        "print(f\"V5 Hola {name} {last_name}, tu edad es {age}\")"
      ]
    },
    {
      "cell_type": "markdown",
      "source": [
        "# Tipos de datos\n",
        "\n",
        "Aun que las variables de Python son dinámicas es decir no poseen un tipo de dato específico a lo largo de todo el programa si adoptan un tipo de dato en específico en cierta parte de la ejecución de un programa"
      ],
      "metadata": {
        "id": "MHn0mxZJJII6"
      }
    },
    {
      "cell_type": "code",
      "source": [
        "#int datatype\n",
        "apples =3\n",
        "print(type(apples))\n",
        "\n",
        "#float datatype\n",
        "degrees = 27.2\n",
        "print(type(degrees))\n",
        "\n",
        "#bool datatype\n",
        "logged=False\n",
        "print(type(logged))\n",
        "    #Invertir un valor bool\n",
        "print(type(not logged))\n",
        "\n",
        "#strings \n",
        "name=\"carlitos\"\n",
        "print(f\"{name} is type \", type(name))\n"
      ],
      "metadata": {
        "colab": {
          "base_uri": "https://localhost:8080/"
        },
        "id": "5hIdRO5oKTjz",
        "outputId": "4c72d63b-0c03-4f4e-8f4f-27bb145038c7"
      },
      "execution_count": null,
      "outputs": [
        {
          "output_type": "stream",
          "name": "stdout",
          "text": [
            "<class 'int'>\n",
            "<class 'float'>\n",
            "<class 'bool'>\n",
            "<class 'bool'>\n",
            "carlitos is type  <class 'str'>\n"
          ]
        }
      ]
    },
    {
      "cell_type": "markdown",
      "source": [
        "# Conversión de datos String a Number\n",
        "\n",
        "Podemos convertir datos en diferente tipo usando la función int float y str, solo se deben cumplir ciertas condiciones\n",
        "\n",
        "- str to int o float\n",
        "  - El dato guardado en la variable debe contener solo números\n",
        "\n",
        "- int to float\n",
        "  - No hay restricciones básicas\n",
        "\n",
        "- float to int\n",
        "  - El dato int resultante por su naturaleza perderá los decimales (no se redondea)\n",
        "\n",
        "- int to string\n",
        "  - no hay restricciones"
      ],
      "metadata": {
        "id": "xw40LYIRMHef"
      }
    },
    {
      "cell_type": "code",
      "source": [
        "#string to float\n",
        "pi=\"2.12\"\n",
        "pi=float(pi)\n",
        "print(pi+1.02, \"type: \", type(pi))\n",
        "\n",
        "#string to int\n",
        "age=\"23\"\n",
        "age=int(age)\n",
        "print(age+1, \"type: \", type(age))\n",
        "\n",
        "#int to float\n",
        "random=20\n",
        "random=float(random)\n",
        "print(random+.2, \"type: \", type(random))\n",
        "\n",
        "#float to int\n",
        "pi=3.14\n",
        "pi=int(pi)\n",
        "print(pi, \"type: \", type(pi))\n",
        "\n",
        "#int to string\n",
        "age=23\n",
        "age=str(age)\n",
        "print(f\"i'm {age} years old\", \"type: \", type(age))"
      ],
      "metadata": {
        "colab": {
          "base_uri": "https://localhost:8080/"
        },
        "id": "ynBR689TMxpI",
        "outputId": "3cdae3b8-dec2-4ec8-af8a-26a030f8e432"
      },
      "execution_count": null,
      "outputs": [
        {
          "output_type": "stream",
          "name": "stdout",
          "text": [
            "3.14 type:  <class 'float'>\n",
            "24 type:  <class 'int'>\n",
            "20.2 type:  <class 'float'>\n",
            "3 type:  <class 'int'>\n",
            "i'm 23 years old type:  <class 'str'>\n"
          ]
        }
      ]
    },
    {
      "cell_type": "markdown",
      "source": [
        "# Operaciones aritméticas básicas\n",
        "\n",
        "Podemos ejecutar varias operaciones básicas\n",
        "\n",
        "|Operación|Sintáxis|\n",
        "|---|---|\n",
        "|Suma|a+b|\n",
        "|Resta|a-b|\n",
        "|Multiplicación|a*b|\n",
        "|División|a/b|\n",
        "|Módulo|a%b|\n",
        "|División entera|a//b|\n",
        "|Exponenciación|a**b|"
      ],
      "metadata": {
        "id": "fILvVEgfSC4a"
      }
    },
    {
      "cell_type": "code",
      "source": [
        "# (+) Suma \n",
        "print(5+5)\n",
        "print(\"hi \"+\" how r u?\")\n",
        "# (-) Resta\n",
        "print(10-5)\n",
        "# (*) Multiplicación\n",
        "print(5*2)\n",
        "print(\"hi \"*3)\n",
        "# (/) División\n",
        "print(10/2)\n",
        "# (%) Modulo o Residuo\n",
        "print(10%2)\n",
        "# (//) Division con valor entero\n",
        "print(15//2)\n",
        "# (**) Exponenciación\n",
        "print(5**3)"
      ],
      "metadata": {
        "colab": {
          "base_uri": "https://localhost:8080/"
        },
        "id": "kKBdbBI3TiRq",
        "outputId": "3561bc12-ff01-45bf-9e37-59f47f5da794"
      },
      "execution_count": null,
      "outputs": [
        {
          "output_type": "stream",
          "name": "stdout",
          "text": [
            "10\n",
            "hi  how r u?\n",
            "5\n",
            "10\n",
            "hi hi hi \n",
            "5.0\n",
            "0\n",
            "7\n",
            "125\n"
          ]
        }
      ]
    },
    {
      "cell_type": "markdown",
      "source": [
        "#Comparadores\n",
        "##Comparadores de cantidad\n",
        "Comparan números enteros o flotantes, usan <, >, =, ! y sus combinaciones\n",
        "\n",
        "##Comparadores lógicos\n",
        "Utilizan bits para poder hacer las comparaciones, se pueden usar numeros enteros o valores booleanos, usan:\n",
        "- And\n",
        "  - Símbolo &\n",
        "- Or\n",
        "  - Símbolo |\n",
        "- Xor\n",
        "  - Símbolo ^\n",
        "- Not\n",
        "  - Símbolo ~\n",
        "- Desplazamiento a la derecha\n",
        "  - Símbolo >>\n",
        "- Desplazamiento a la izquierda\n",
        "  - Símbolo <<"
      ],
      "metadata": {
        "id": "zzHUaLJ8Tw3l"
      }
    },
    {
      "cell_type": "code",
      "source": [
        "# > \n",
        "print(7 > 3)\n",
        "print(3 > 7)\n",
        "print(7 > 7)\n",
        "\n",
        "# <\n",
        "print(5 < 6)\n",
        "print(6 < 5)\n",
        "print(5 < 5)\n",
        "\n",
        "# >=\n",
        "print(2 >= 1)\n",
        "print(2 >= 3)\n",
        "print(2 >= 2)\n",
        "\n",
        "# <=\n",
        "print(1 <= 2)\n",
        "print(2 <= 1)\n",
        "print(2 <= 2)\n",
        "\n",
        "# ==\n",
        "\n",
        "print(6 == 6)\n",
        "print(5 == 2)\n",
        "\n",
        "# !=\n",
        "\n",
        "print(6 != 10)\n",
        "print(6 != 6)\n",
        "\n",
        "print(\"Apple\" == 'Apple')\n",
        "print(\"Apple\" == 'apple')\n",
        "print(\"1\" == 1)\n",
        "\n",
        "age = 15\n",
        "print(age >= 18)\n",
        "\n",
        "a=2\n",
        "b=3\n",
        "\n",
        "#and\n",
        "print(a&b)#2 10 & 11 => 10\n",
        "\n",
        "#or\n",
        "print(a|b)#3 10 | 11 => 11\n",
        "\n",
        "#xor\n",
        "print(a^b)#1 10 ^ 11 => 01\n",
        "\n",
        "#not\n",
        "print(~a)#-3 ~(00000010) => (11111101)\n",
        "\n",
        "#desplazamiento\n",
        "\n",
        "#Realiza un desplazamiento a la derecha bit a bit. Desplaza los bits del operador de la izquierda a la derecha \n",
        "# tantos bits como indica el operador de la derecha\n",
        "print(a>>b)#0 00000010 >> 00000011 = 0\n",
        "\n",
        "#Realiza un desplazamiento a la izquierda bit a bit. Desplaza los bits del operando de la izquierda a la izquierda \n",
        "# tantos bits como especifique el operador de la derecha\n",
        "print(a<<b)#16 00000010 << 00000011 = 00001000"
      ],
      "metadata": {
        "id": "z_I6lnjIVQuE"
      },
      "execution_count": null,
      "outputs": []
    },
    {
      "cell_type": "markdown",
      "source": [
        "#Operadores de pertenencia\n",
        "\n",
        "Un operador de pertenencia se emplea para identificar pertenencia en alguna secuencia (listas, strings, tuplas). Por ejemplo in y not in son operadores de pertenencia.\n",
        "in devuelve True si el valor especificado se encuentra en la secuencia. En caso contrario devuelve False.\n",
        "not in devuelve True si el valor especificado no se encuentra en la secuencia. En caso contrario devuelve False."
      ],
      "metadata": {
        "id": "GZVyzktLV1Ys"
      }
    },
    {
      "cell_type": "code",
      "source": [
        "a = [1,2,3,4,5]\n",
        "#Esta 3 en la lista a?\n",
        "print(3 in a) # Muestra True \n",
        "\n",
        "#No está 12 en la lista a?\n",
        "print(12 not in a) # Muestra True\n",
        "\n",
        "str = \"Hello World\"\n",
        "\n",
        "#Contiene World el string str?\n",
        "print(\"World\" in str) # Muestra True\n",
        "\n",
        "#Contiene world el string str? (nota: distingue mayúsculas y minúsculas)\n",
        "print(\"world\" in str) # Muestra False  \n",
        "\n",
        "print(\"code\" not in str) # Muestra True"
      ],
      "metadata": {
        "id": "laXYMlFaWRT-"
      },
      "execution_count": null,
      "outputs": []
    },
    {
      "cell_type": "markdown",
      "source": [
        "#Operadores de identidad\n",
        "\n",
        "Un operador de identidad se emplea para comprobar si dos variables emplean la misma ubicación en memoria.Por ejemplo is y is not son operadores de identidad.\n",
        "- is devuelve True si los operandos se refieren al mismo objeto. En caso contrario devuelve False.\n",
        "- is not devuelve True si los operandos no se refieren al mismo objeto. En caso contrario devuelve False.\n",
        "\n",
        "Ten en cuenta que dos valores, cuando son iguales, no implica necesariamente que sean idénticos."
      ],
      "metadata": {
        "id": "7bS2ErS2WarP"
      }
    },
    {
      "cell_type": "code",
      "source": [
        "a = 3\n",
        "b = 3  \n",
        "c = 4\n",
        "print (a is b) # muestra True\n",
        "print (a is not b) # muestra False\n",
        "print (a is not c) # muestra True\n",
        "\n",
        "x = 1\n",
        "y = x\n",
        "z = y\n",
        "print (z is 1) # muestra True\n",
        "print (z is x) # muestra True\n",
        "\n",
        "str1 = \"FreeCodeCamp\"\n",
        "str2 = \"FreeCodeCamp\"\n",
        "\n",
        "print (str1 is str2) # muestra True\n",
        "print (\"Code\" is str2) # muestra False\n",
        "\n",
        "a = [10,20,30]\n",
        "b = [10,20,30]\n",
        "\n",
        "print (a is b) \n",
        "# muestra False (ya que las listas son objetos mutables en Python así que se guardan en otro lugar distinto) "
      ],
      "metadata": {
        "id": "CFXv3zEgWzkM"
      },
      "execution_count": null,
      "outputs": []
    },
    {
      "cell_type": "markdown",
      "source": [
        "# Condicionales\n",
        "\n",
        "Ejecuta un segmento de código si la sentencia es verdadera, si no es verdadera se puede reevaluar o caer en una ejecución por default."
      ],
      "metadata": {
        "id": "0fPA4dQ-gg0V"
      }
    },
    {
      "cell_type": "code",
      "source": [
        "age =int(input(\"how old are you? => \"))\n",
        "if age>=18:\n",
        "    print(\"you can use this solution\")\n",
        "elif age <8:\n",
        "    print(\"call your parents pls\")\n",
        "else:\n",
        "    print(\"you can't use this solution\")\n",
        "    \n",
        "number = '11'\n",
        "number=int(number)\n",
        "print(number)\n",
        "\n",
        "if (number%2)==0:\n",
        "  print('Pair')\n",
        "elif (number%2)!=0:\n",
        "  print('Unpair')\n",
        "\n",
        "# Ejemplo con piedra papel o tijeras\n",
        "user_option=input('rock, scissors or paper?=> ')\n",
        "if user_option.isalpha():\n",
        "    user_option=user_option.lower()\n",
        "    computer_option='paper'\n",
        "if user_option==computer_option:\n",
        "    print(\"tie\")\n",
        "else:\n",
        "    if user_option=='rock':\n",
        "        print(\"I win\")\n",
        "    elif user_option=='scissors': \n",
        "        print(\"you win\")\n",
        "    else:\n",
        "        print(\"what are you playing bro?\")"
      ],
      "metadata": {
        "id": "xW8KE-ZEhcEf"
      },
      "execution_count": null,
      "outputs": []
    },
    {
      "cell_type": "markdown",
      "source": [
        "# Slicing\n",
        "\n",
        "El slicing separa partes de un array o de un string"
      ],
      "metadata": {
        "id": "IoRJ2akK-8MJ"
      }
    },
    {
      "cell_type": "code",
      "source": [
        "text='she know how python works'\n",
        "\n",
        "size= len(text)\n",
        "print('size => ',size)\n",
        "print('last word=> ',text[size-1])\n",
        "#slicing\n",
        "#var[init:final:steps]\n",
        "print(text[0:4])\n",
        "print(text[:10])\n",
        "print(text[5:-1])\n",
        "print(text[5:])\n",
        "print(text[:])\n",
        "print(text[14:20:2])"
      ],
      "metadata": {
        "id": "g2fjeYRZ_IIv"
      },
      "execution_count": null,
      "outputs": []
    },
    {
      "cell_type": "markdown",
      "source": [
        "# Lists\n",
        "\n",
        "Las listas son estructuras de datos simples que se constituyen de elementos, estos elementos pueden ser de cualquier tipo, ya sea string, int, bool o float.\n",
        "\n",
        "Son Mutables (pueden alterarse), Ordenadas, Poseen Index y Slicing (Se puede acceder a un elemento mediante un index y partirlas por slicing), y admite elementos duplicados.\n",
        "\n",
        "Poseen las siguientes funciones por parte de su clase:\n",
        "\n",
        "|Number|Function|Make|\n",
        "|---|---|---|\n",
        "| 1.\t| capitalize |     Cambia todas las letras a minúsculas menos la primera. |\n",
        "| 2.\t| casefold |       Utilizada para compara cadenas sin importar el tamaño de los caracteres. |\n",
        "| 3.  | center |         Formaseta una cadena alineandola al centro |\n",
        "| 4.  | count |          Cuenta las ocurrencias de una cadena |\n",
        "| 5.  | encode |         Codifica una cadena según la codificación deseada. |\n",
        "| 6.  | endswith |       Comprueba si la cadena termina con una cadena específica. |\n",
        "| 7.  | expandtabs |     Convierte los tabuladores en espacios. |\n",
        "| 8.  | find |           Devuelve el índice de la cadena buscada o -1 si no se encuentra. |\n",
        "| 9.  | format |         Formatea una cadena de forma avanzada. |\n",
        "| 10. | format_map |     Igual que format, pero sin hacer una copia de los parámetros. |\n",
        "| 11. | index |          Devuelve el índice de una cadena de caracteres o ValueError. |\n",
        "| 12. | isalnum |        Comprueba si la cadena es alfanumérica. |\n",
        "| 13. | isalpha |        Comprueba si la cadena es alfabética. |\n",
        "| 14. | isascci |        Comprueba si la cadena es ASCII. |\n",
        "| 15. | isdecimal |      Comprueba si la cadena es un decimal. |\n",
        "| 16. | isdigit |        Comprueba si la cadena es un dígito. |\n",
        "| 17. | isidentifier |   Comprueba si la cadena es un identificador. |\n",
        "| 18. | islower |        Comprueba si todos los caracteres son minúsculos. |\n",
        "| 19. | isnumeric |      Comprueba si la cadena es numérica. |\n",
        "| 20. | isprintable |    Comprueba si la cadena es imprimible. |\n",
        "| 21. | isspace |        Comprueba si la cadena solo contiene espacios. |\n",
        "| 22. | istitle |        Comprueba si la cadena tiene formato de título. |\n",
        "| 23. | isupper |        Comprueba si todos los caracteres son mayúsculas. |\n",
        "| 24. | join |           Une todos los elementos de un iterador en una cadena. |\n",
        "| 25. | ljust |          Justifica la cadena a la izquierda. |\n",
        "| 26. | lower |          Convierte la cadena a minúsculas. |\n",
        "| 27. | lstrip |         Elimina los caracteres de espacio de la izquierda. |\n",
        "| 28. | maketrans |      Crea una tabla de traducción para translate. |\n",
        "| 29. | partition |      Crea particiones de una cadena usando un separador. |\n",
        "| 30. | replace |        Reemplaza en la misma cadena un carácter por otro. |\n",
        "| 31. | removeprefix |   Devuelve una nueva cadena con el prefijo especificado como argumento eliminado si se encuentra en la cadena origina. |\n",
        "| 32. | removesuffix |   Devuelve una nueva cadena con el sufijo especificado |\n",
        "| 33. | rfin |           Devuelve el índice de la cadena como parámetro buscando por la derecha o -1 si no se encuentra. |\n",
        "| 34. | rindex |         Devuelve el índice de la cadena como parámetro buscando por la derecha o ValueError. |\n",
        "| 35. | rjust |          Justifica la cadena a la derecha. |\n",
        "| 36. | rpartition |     Crea particiones de una cadena usando un separador y comenzando por la derecha. |\n",
        "| 37. | rsplit |         Devuelve una lista de cadenas al separar la original por un separador buscando por la derecha. |\n",
        "| 38. | rstrip |         Devuelve una lista de cadenas separando la original por saltos de línea. |\n",
        "| 39. | split |          Devuelve una lista de cadenas al separar la original por un separador. |\n",
        "| 40. | splitlines |     Devuelve una lista de cadenas separando la original por saltos de línea. |\n",
        "| 41. | startswith |     Comprueba si la cadena comienza con una cadena específica. |\n",
        "| 42. | strip |          Elimina los espacios iniciales y finales de la cadena. |\n",
        "| 43. | swapcase |       Cambia el tamaño de cada letra de minúsculas a Mayúsculas y las que estan en Mayúsculas a minúsculas. |\n",
        "| 44. | title |          Convierte la cadena a formato título. |\n",
        "| 45. | translate |      Reemplaza cada carácter por otro siguiendo una tabla de traducciones. |\n",
        "| 46. | upper |          Convierte la cadena a mayúsculas. |\n",
        "| 47. | zfill |          Añade ceros a la izquierda a una cadena numérica. |"
      ],
      "metadata": {
        "id": "Fd4OXScG_SME"
      }
    },
    {
      "cell_type": "code",
      "source": [
        "my_list = ['A', 'B', 'C', 'D', 'E', 'F']\n",
        "\n",
        "#add\n",
        "my_list.append('G')\n",
        "#mutable\n",
        "my_list[0] = 'Z'\n",
        "my_list.remove('C')\n",
        "#Ordenada\n",
        "my_list.reverse()\n",
        "print(my_list)"
      ],
      "metadata": {
        "id": "lBIt4FZXAEVO"
      },
      "execution_count": null,
      "outputs": []
    },
    {
      "cell_type": "markdown",
      "source": [
        "# Tuplas\n",
        "\n",
        "Estructura de datos inmutables que contiene una secuencia ordenada de elementos. Los elementos están separados por espacios luego de las comas al igual que las listas pero son declaradas con paréntesis en vez de corchetes.\n",
        "- Puede contener cualquier tipo de datos\n",
        "- Cada posición de la tupla tiene un índice\n",
        "- Es inmutable y por lo tanto no puede ser modificada, lo que permite proteger mejor la data si no queremos que se modifique por error\n",
        "\n",
        "Puedes acceder a un elemento con la función de clase index() que espera un elemento, también la función count() que espera un elemento y arrojará un int con la cantidad representativa de veces que se repite el elemento del argumento en la tupla.\n",
        "\n",
        "Puedes usar in para consultar algún dato en la tupla"
      ],
      "metadata": {
        "id": "xbjNaU5VBPP0"
      }
    },
    {
      "cell_type": "code",
      "source": [
        "Tupla = (1, 2, 3, 4)\n",
        "\n",
        "Tupla = (\"A\", \"B\", \"C\")\n",
        "print(Tupla[2])\n",
        "print(\"A\" in Tupla)\n",
        "\n",
        "numbers = (1, 2, 3, 5)\n",
        "strings = ('nico', 'zule', 'santi', 'nico')\n",
        "print(numbers)\n",
        "print('0 =>', numbers[0])\n",
        "print('-1 =>', numbers[-1])\n",
        "print(type(numbers))\n",
        "\n",
        "print(strings)\n",
        "print(type(strings))\n",
        "\n",
        "# CRUD\n",
        "numbers.append(10)\n",
        "print(numbers)\n",
        "numbers[1] = 'change'\n",
        "\n",
        "print(strings)\n",
        "print(strings.index('zule'))\n",
        "print(strings.count('nico'))\n",
        "\n",
        "my_list = list(strings)\n",
        "print(my_list)\n",
        "print(type(my_list))\n",
        "\n",
        "my_list[1] = 'juli'\n",
        "print(my_list)\n",
        "\n",
        "my_tuple = tuple(my_list)\n",
        "print(my_tuple)"
      ],
      "metadata": {
        "id": "M9QDZ2x3B0lU"
      },
      "execution_count": null,
      "outputs": []
    },
    {
      "cell_type": "markdown",
      "source": [
        "# Diccionario\n",
        "A dictionary has a key and a value assigned for each key, to get the definition of the value we need to reference the key a dictionary can assign different types of valors for each key Dictionary on Python is an Object in JS.\n",
        "\n",
        "Un diccionario es una estructura de datos que necesita de una relación de una llave -> valor, para obtener el valor (o definición) de cada llave necesitamos hacer referencia a la llave que está asignada a ese valor. Los valores de las llaves pueden ser de diferentes tipos dentro del mismo objeto.\n",
        "\n",
        "|Function | Change|\n",
        "|---|---|\n",
        "|clear()|\t    Removes all the elements from the dictionary|\n",
        "|copy()|\t    Returns a copy of the dictionary|\n",
        "|fromkeys()|\tReturns a dictionary with the specified keys and value|\n",
        "|get()|\t        Returns the value of the specified key|\n",
        "|items()|\t    Returns a list containing a tuple for each key value pair|\n",
        "|keys()|\t    Returns a list containing the dictionary's keys|\n",
        "|pop()|\t        Removes the element with the specified key|\n",
        "|popitem()|\t    Removes the last inserted key-value pair|\n",
        "|setdefault()|\tReturns the value of the specified key. If the key does not exist: insert the key, with the specified value|\n",
        "|update()|\t    Updates the dictionary with the specified key-value pairs|\n",
        "|values()|\t    Returns a list of all the values in the dictionary|"
      ],
      "metadata": {
        "id": "jYfyx0KPGGHu"
      }
    },
    {
      "cell_type": "code",
      "source": [
        "myDictionary={}\n",
        "print(type(myDictionary))\n",
        "\n",
        "person={\n",
        "    \"name\": \"Rodrigo\",\n",
        "    \"age\": 25,\n",
        "    \"Country\": \"México\",\n",
        "    \"phone\": \"5544722244\",\n",
        "    \"weight\": 130.7\n",
        "}\n",
        "\n",
        "# we can use len like a string, list and touple\n",
        "print(len(person))\n",
        "\n",
        "# Need to a value assigned for a key? shure:\n",
        "print(f\"Hi, my name is {person['name']} my age are {person['age']}\")\n",
        "\n",
        "# caution, if the key not exists python will throw an error\n",
        "# for this we use get function\n",
        "print(person.get('height')) # reult: none\n",
        "\n",
        "# we can ask first like this:\n",
        "if 'height' in person: #this sentence evaluate if the key height exists\n",
        "    print(\"avion are on dictionary\")\n",
        "else:\n",
        "    print(\"avion aren't on dictionary\")\n",
        "\n",
        "developer={\n",
        "    \"name\":\"Rodrigo\",\n",
        "    \"lastName\":\"Flores\",\n",
        "    \"age\":\"23\",\n",
        "    \"langs\":[\"python\", \"js\", \"C\", \"C#\"],\n",
        "    \"weight\":85,\n",
        "    \"favouriteBand\": \"blink182\"\n",
        "}\n",
        "\n",
        "developer[\"name\"]=\"Santiago\"\n",
        "developer[\"age\"]+=20\n",
        "developer[\"langs\"].append(\"typescript\")\n",
        "\n",
        "# Ways to delete a element\n",
        "# Delete a key value\n",
        "del developer[\"weight\"]\n",
        "developer.pop(\"favouriteBand\")\n",
        "print(list(developer.keys()))\n",
        "print(list(developer.values()))"
      ],
      "metadata": {
        "id": "6LA1t6PzGk5I"
      },
      "execution_count": null,
      "outputs": []
    },
    {
      "cell_type": "markdown",
      "source": [
        "# Loop While\n",
        "\n",
        "Tiene una estructura como un if pero mientras la condición sea verdad el código se ejectutará (hay que tener cuidado para que el while no se cicle indeterminadamente)"
      ],
      "metadata": {
        "id": "WeF_tmWuHboJ"
      }
    },
    {
      "cell_type": "code",
      "source": [
        "# Example, a program to count from 0 to 10\n",
        "print(\"Count from 0 to 10\")\n",
        "i=0\n",
        "while i<=10:\n",
        "    print(f\"Actual number was {i}\")\n",
        "    i+=1\n",
        "\n",
        "# Example, a program to make the times table\n",
        "x=int(input(\"Hi, what time table do you want to print => \"))\n",
        "i=0\n",
        "while i<=10:\n",
        "    print(f\"{x} time {i} equals {x*i}\")\n",
        "    i+=1\n",
        "\n",
        "# We can use breake for break the cycles\n",
        "print(\"break the cycle\")\n",
        "i=0\n",
        "while i<=10:\n",
        "    print(f\"Actual number was {i}\")\n",
        "    i+=1\n",
        "    if i==5: # if the counter was 5\n",
        "        break # break the cycle\n",
        "\n",
        "# We can jump a cycle use continue\n",
        "print(\"jump a cycle\")\n",
        "i=0\n",
        "while i<=10:\n",
        "    i+=1\n",
        "    if (i%2)==(1):\n",
        "        print(f\"Actual number was {i}\")\n",
        "    else:\n",
        "        continue # everything below this was ignored even the code was out of conditional\n",
        "\n",
        "# count from 15 to 20\n",
        "print(\"count from 15 to 20\")\n",
        "i=0\n",
        "while i<=10:\n",
        "    i+=1\n",
        "    if i<15:\n",
        "        continue\n",
        "    print(f\"Actual number was {i}\")"
      ],
      "metadata": {
        "colab": {
          "base_uri": "https://localhost:8080/"
        },
        "id": "IzW4B1PIH8ya",
        "outputId": "cbf7c570-b484-4abb-c772-c78d3584eadc"
      },
      "execution_count": 1,
      "outputs": [
        {
          "output_type": "stream",
          "name": "stdout",
          "text": [
            "Count from 0 to 10\n",
            "Actual number was 0\n",
            "Actual number was 1\n",
            "Actual number was 2\n",
            "Actual number was 3\n",
            "Actual number was 4\n",
            "Actual number was 5\n",
            "Actual number was 6\n",
            "Actual number was 7\n",
            "Actual number was 8\n",
            "Actual number was 9\n",
            "Actual number was 10\n",
            "Hi, what time table do you want to print => 3\n",
            "3 time 0 equals 0\n",
            "3 time 1 equals 3\n",
            "3 time 2 equals 6\n",
            "3 time 3 equals 9\n",
            "3 time 4 equals 12\n",
            "3 time 5 equals 15\n",
            "3 time 6 equals 18\n",
            "3 time 7 equals 21\n",
            "3 time 8 equals 24\n",
            "3 time 9 equals 27\n",
            "3 time 10 equals 30\n",
            "break the cycle\n",
            "Actual number was 0\n",
            "Actual number was 1\n",
            "Actual number was 2\n",
            "Actual number was 3\n",
            "Actual number was 4\n",
            "jump a cycle\n",
            "Actual number was 1\n",
            "Actual number was 3\n",
            "Actual number was 5\n",
            "Actual number was 7\n",
            "Actual number was 9\n",
            "Actual number was 11\n",
            "count from 15 to 20\n"
          ]
        }
      ]
    },
    {
      "cell_type": "markdown",
      "source": [
        "# Loop For \n",
        "\n",
        "'For' es una estructura específica que tiene más formas de utilizar que cualquier otra sentencia\n",
        "\n",
        "Es como while hasta que la sentencia no es válida.\n",
        "\n",
        "    for element in range(20): # for each element in range from 0 to 19\n",
        "      print(element) # print the actual element\n"
      ],
      "metadata": {
        "id": "rp_MS9awIOBs"
      }
    },
    {
      "cell_type": "code",
      "source": [
        "# we can use to loop and print each element from a list\n",
        "myList = ['A', 'B', 'C', 'D', 'E', 'F']\n",
        "for element in myList:\n",
        "    print(element)\n",
        "\n",
        "Tupla = (\"Alfa\", \"Beta\", \"Gamma\")\n",
        "for element in Tupla:\n",
        "    print(element)\n",
        "\n",
        "developer={\n",
        "    \"name\":\"Rodrigo\",\n",
        "    \"lastName\":\"Flores\",\n",
        "    \"age\":23,\n",
        "    \"langs\":[\"python\", \"js\", \"C\", \"C#\"],\n",
        "}\n",
        "for key in developer:\n",
        "    print(key,  \" => \", developer[key], \" type => \", type(developer[key]))\n",
        "\n",
        "# Another function be:\n",
        "for key, value in developer.items():\n",
        "    print(key, \" => \", value, \" type => \", type(value))\n",
        "\n",
        "# Server response something like this\n",
        "people=[\n",
        "    {\n",
        "        \"name\": \"nico\",\n",
        "        \"age\": 24\n",
        "    },\n",
        "    {\n",
        "        \"name\": \"robby\",\n",
        "        \"age\": 20\n",
        "    },\n",
        "    {\n",
        "        \"name\": \"Andy\",\n",
        "        \"age\": 27\n",
        "    }\n",
        "]\n",
        "for person in people:\n",
        "    for name, age in person.items():\n",
        "        print(name, \" => \", age)\n",
        "\n",
        "# fill all the empty lists with positive and negative numbers from list given\n",
        "myList = [1, -1, 2, -2, 3, -3, 4, -4]\n",
        "positiveList = []\n",
        "negativeList=[]\n",
        "for number in myList:\n",
        "    if number<0:\n",
        "        negativeList.append(number)\n",
        "    else:\n",
        "        positiveList.append(number)\n",
        "print(negativeList)\n",
        "print(positiveList)"
      ],
      "metadata": {
        "id": "eQmG0OErOyiY"
      },
      "execution_count": null,
      "outputs": []
    }
  ]
}